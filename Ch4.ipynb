{
 "cells": [
  {
   "cell_type": "markdown",
   "metadata": {},
   "source": [
    "#Ch. 4 Exercises\n",
    "<ol>\n",
    "<li>[Histogram Filter for 1-D Car](#Histogram_car)</li>\n",
    "<li>[Histogram Filter for 2-D Robot](#Histogram_robot)</li>\n",
    "<li>[Partical Filter Bias](#Partical_Filter_bais)</li>\n",
    "<li>[Partical Filter 1-D Car](#Partical_Filter_car)</li>\n",
    "<li>[Partical Filter 2-D Robot](#Partical_Filter_robot)</li>\n",
    "</ol>"
   ]
  },
  {
   "cell_type": "markdown",
   "metadata": {},
   "source": [
    "## 1. Histogram Filter for 1-D Car <a id=\"Histogram_car\"></a>\n",
    "\n",
    "(a) Implement a histogram filter for the car system from chapter 3.\n",
    "\n",
    "State Vectors:\n",
    "\\begin{equation}\n",
    "\\mu = \\left[\\begin{array}{c}\n",
    "x \\\\\n",
    "\\dot{x} \\end{array}\\right], \\\\\n",
    "\\space\n",
    "\\ddot{x}_{mean} = 0, \\ddot{x}_{\\sigma^{2}} = 1\n",
    "\\end{equation}\n",
    "\n",
    "\n",
    "a robot at $bin_{j}$ at $t=-1$ will end up in $bin_{k}$ at $t=0$ if\n",
    "\\begin{equation}\n",
    "x_{k} - x_{j} = \\frac{1}{2}(\\dot{x}_k + \\dot{x}_j) \\\\\n",
    "\\ddot{x} = (\\dot{x}_k - \\dot{x}_j)\n",
    "\\end{equation}\n"
   ]
  },
  {
   "cell_type": "code",
   "execution_count": null,
   "metadata": {
    "collapsed": false,
    "scrolled": true
   },
   "outputs": [],
   "source": [
    "import numpy as np\n",
    "import matplotlib.pyplot as plt\n",
    "%pylab inline\n",
    "\n",
    "#t=0\n",
    "\n",
    "xs = np.linspace(-6,6,21)\n",
    "vs = np.linspace(6,-6,21)\n",
    "\n",
    "x_step = abs(xs[1]-xs[0])\n",
    "v_step = abs(vs[1]-vs[0])\n",
    "\n",
    "probs = np.zeros((len(xs), len(vs)))\n",
    "probs[len(xs) / 2, len(vs) / 2] = 1\n",
    "\n",
    "def _gaussian(mu, sigma_sq, x):\n",
    "    \"\"\"Compute the probablity of x of a gaussian centered at mu with variation sigma_sq\"\"\"\n",
    "    return (2*np.pi*sigma_sq)**-0.5 *np.exp(-(x-mu)**2/(2*sigma_sq))\n",
    "# Make it vectorized\n",
    "gaussian = np.vectorize(_gaussian)\n",
    " \n",
    "\n",
    "def hist_filt(probs_t_1, xs, vs):\n",
    "    probs_bar_t = np.zeros(probs_t_1.shape)\n",
    "    for i, x_t in enumerate(xs):\n",
    "        for j, v_t in enumerate(vs):\n",
    "            for k, x_t_1 in enumerate(xs):\n",
    "                for l, v_t_1 in enumerate(vs):\n",
    "                    # This is super hacky, but required to validate that the robot will actually be at\n",
    "                    # the desired state. (There is probably a more elegant solution to this, but I don't know\n",
    "                    # what it is...\n",
    "                    if abs(x_t - x_t_1 - 0.5 * (v_t + v_t_1)) <= x_step: \n",
    "                        probs_bar_t[j,i] += probs_t_1[k,l] * gaussian(mu=0, sigma_sq=1, x=(v_t - v_t_1))\n",
    "                        \n",
    "    return probs_bar_t\n",
    "\n",
    "# Plot the results\n",
    "fig = plt.figure(figsize=(15,5))\n",
    "for i in xrange(6):\n",
    "    ax = fig.add_subplot(1,6,i+1, aspect='equal')\n",
    "    ax.contour(xs, vs, probs)\n",
    "    probs = hist_filt(probs, xs, vs)\n",
    "\n",
    "plt.show()"
   ]
  },
  {
   "cell_type": "code",
   "execution_count": null,
   "metadata": {
    "collapsed": false
   },
   "outputs": [],
   "source": [
    "#(b) Measurement update\n",
    "# measurement sigma^2 = 10\n",
    "\n",
    "def hist_measurement_update(probs_bar_t, z_t, z_sigma):\n",
    "    probs_t = np.zeros(probs_bar_t.shape)\n",
    "    for i, x_t in enumerate(xs):\n",
    "        for j, v_t in enumerate(vs):\n",
    "            probs_t[j,i] = probs_bar_t[j,i] * gaussian(x_t, z_sigma, z_t)\n",
    "    return probs_t\n",
    "            \n",
    "z_sigma = 10\n",
    "\n",
    "probs = np.zeros((len(vs), len(xs)))\n",
    "probs[len(vs) / 2, len(xs) / 2] = 1\n",
    "\n",
    "for i in xrange(5):\n",
    "    probs = hist_filt(probs, xs, vs)\n",
    "\n",
    "probs_before = probs\n",
    "probs_after = hist_measurement_update(probs_before, 5, np.sqrt(z_sigma))\n",
    "\n",
    "fig = plt.figure(figsize=(9,9))\n",
    "for i, p in enumerate((probs_before, probs_after)):\n",
    "    ax = fig.add_subplot(1,2,i+1, aspect='equal')\n",
    "    ax.contour(xs, vs, p)\n",
    "\n",
    "plt.show()\n",
    "\n"
   ]
  },
  {
   "cell_type": "markdown",
   "metadata": {},
   "source": [
    "#2. Histogram filter for 2D robot <a id=\"Histogram_robot\"></a>\n",
    "\n",
    "(a) Propose a state histogram filter for the robot in chapter 2.\n",
    "\n",
    "The histogram is a 3d matrix with dimensions $\\theta, y, x$"
   ]
  },
  {
   "cell_type": "code",
   "execution_count": null,
   "metadata": {
    "collapsed": false
   },
   "outputs": [],
   "source": [
    "xs = np.linspace(-1.5, 1.5, 11)\n",
    "ys = np.linspace(1.5, -1.5, 11)\n",
    "thetas = np.linspace(-np.pi, np.pi, 11, endpoint=False)\n",
    "\n",
    "x_step = abs(xs[1]-xs[0])\n",
    "y_step = abs(ys[1]-ys[0])\n",
    "theta_step = abs(thetas[1]-thetas[0])\n",
    "\n",
    "probs = np.zeros((len(thetas), len(ys), len(xs)))\n",
    "\n",
    "x_mu = y_mu = 0\n",
    "x_sigma = y_sigma = 0.1 # sigma^2 = 0.01\n",
    "\n",
    "# Initial probabilities\n",
    "for i, x in enumerate(xs):\n",
    "    for j, y in enumerate(ys):\n",
    "        probs[:,j,i] = pylab.normpdf(x, x_mu, x_sigma) * pylab.normpdf(y, y_mu, y_sigma)\n",
    "\n",
    "probs = probs / probs.sum() # Normalize\n",
    "\n",
    "fig = plt.figure(figsize=(17,5))\n",
    "for i in xrange(len(thetas)):\n",
    "    ax = fig.add_subplot(1,len(thetas),i+1, aspect='equal')\n",
    "    ax.contour(xs, ys, probs[i,:,:])\n",
    "    ax.set_title('Theta = %.1f' % thetas[i])\n",
    "\n",
    "plt.show()"
   ]
  },
  {
   "cell_type": "markdown",
   "metadata": {},
   "source": [
    "(b) Add the movement prediction"
   ]
  },
  {
   "cell_type": "code",
   "execution_count": null,
   "metadata": {
    "collapsed": false
   },
   "outputs": [],
   "source": [
    "#(b) Add the movement prediction\n",
    "\n",
    "def hist_movement(probs_t_1, xs, ys, thetas, d):\n",
    "    #Since we are moving with no noise, we can cheat a bit and work with each theta independently\n",
    "    probs_bar_t = np.zeros(probs_t_1.shape)\n",
    "    for k, t in enumerate(thetas):\n",
    "        delta_x, delta_y = np.cos(t)*d, np.sin(t)*d\n",
    "        delta_x_idx, delta_y_idx = delta_x // x_step, delta_y // y_step        \n",
    "        for i, x_t in enumerate(xs):\n",
    "            for j, y_t in enumerate(ys):\n",
    "                if (i + delta_x_idx) > 0 and (i + delta_x_idx) < len(xs) and \\\n",
    "                   (j + delta_y_idx) > 0 and (j + delta_y_idx) < len(ys):\n",
    "                    probs_bar_t[k, j, i] = probs_t_1[k, j + delta_y_idx, i + delta_x_idx]\n",
    "                else:        \n",
    "                    probs_bar_t[k,j,i] = 0\n",
    "    return probs_bar_t\n",
    "\n",
    "                        \n",
    "probs_move = hist_movement(probs, xs, ys, thetas, 1)\n",
    "\n",
    "fig = plt.figure(figsize=(17,5))\n",
    "for i in xrange(len(thetas)):\n",
    "    ax = fig.add_subplot(1,len(thetas),i+1, aspect='equal')\n",
    "    ax.contour(xs, ys, probs_move[i,:,:])\n",
    "    ax.set_title('Theta = %.1f' % thetas[i])\n",
    "\n",
    "plt.show()"
   ]
  },
  {
   "cell_type": "markdown",
   "metadata": {},
   "source": [
    "(c) Measurement\n",
    "\n",
    "We measure the $x$ coordinate of the robots with covariance $Q = 0.01$ ($\\sigma = 0.1$)  \n",
    "The position of the robot isn't specified in the text, so I'm going to assume $z = 0.0$"
   ]
  },
  {
   "cell_type": "code",
   "execution_count": null,
   "metadata": {
    "collapsed": false
   },
   "outputs": [],
   "source": [
    "def hist_measurement_update_2(probs_bar_t, z_t, z_sigma):\n",
    "    probs_t = np.zeros(probs_bar_t.shape)\n",
    "    for i, t_t in enumerate(thetas):\n",
    "        for j, x_t in enumerate(xs):\n",
    "            for k, y_t in enumerate(ys):\n",
    "                probs_t[i,k,j] = probs_bar_t[i,k,j] * pylab.normpdf(x_t, z_t, z_sigma)\n",
    "    \n",
    "    return probs_t / probs_t.sum() # Normalize the result\n",
    "\n",
    "probs_measure = hist_measurement_update_2(probs_move, 0.0, 0.1)\n",
    "\n",
    "fig = plt.figure(figsize=(17,5))\n",
    "for i in xrange(len(thetas)):\n",
    "    ax = fig.add_subplot(1,len(thetas),i+1, aspect='equal')\n",
    "    ax.contour(xs, ys, probs_measure[i,:,:], np.linspace(0,probs_measure.max(),10))\n",
    "    ax.set_title('Theta = %.1f' % thetas[i])\n",
    "\n",
    "plt.show()"
   ]
  },
  {
   "cell_type": "markdown",
   "metadata": {},
   "source": [
    "#3. Partical Filter Bias <a id=\"Partical_Filter_bais\"></a>\n",
    "\n",
    "What happens if the number of particles is M=2? Give an example of were this leads to bias.\n",
    "\n",
    "If we only use two particles, the measuremnt will affect the output, (unlike the M=1 case), but it's very likely that neither particle will be a good representation of the true robot pose, (particle deprivation). Also, it would be very suceptable to resampling only 1 particle and removing the particle variance."
   ]
  },
  {
   "cell_type": "markdown",
   "metadata": {},
   "source": [
    "#4. Partical Filter 1-D Car <a id=\"Partical_Filter_car\"></a>\n",
    "\n",
    "Implement a partical filter for the system in problem 1"
   ]
  },
  {
   "cell_type": "code",
   "execution_count": null,
   "metadata": {
    "collapsed": false
   },
   "outputs": [],
   "source": [
    "from collections import namedtuple\n",
    "from random import gauss\n",
    "from random import normalvariate\n",
    "\n",
    "CarParticle = namedtuple('CarParticle', ['x', 'v'])\n",
    "\n",
    "M = 100 # Number of particles\n",
    "particles = []\n",
    "for i in xrange(M):\n",
    "    particles.append(CarParticle(0,0))\n",
    "\n",
    "\n",
    "def car_particle_prediction_update(particles):\n",
    "    new_particles = []\n",
    "    for p in particles:\n",
    "        a = normalvariate(mu=0, sigma=1)\n",
    "        new_particles.append(CarParticle(p.x + p.v + 0.5*a, p.v + a))\n",
    "    return new_particles\n",
    "        \n",
    "\n",
    "# Plot the results\n",
    "fig = plt.figure(figsize=(15,5))\n",
    "for i in xrange(6):\n",
    "    xs, vs = [], []\n",
    "    for p in particles:\n",
    "        xs.append(p.x)\n",
    "        vs.append(p.v)\n",
    "    ax = fig.add_subplot(1,6,i+1, aspect='equal')\n",
    "    ax.plot(xs, vs, 'kx')\n",
    "    particles = car_particle_prediction_update(particles)   \n",
    "    ax.set_xlim(-6, 6)\n",
    "    ax.set_ylim(-6, 6)\n",
    "\n",
    "plt.show()"
   ]
  },
  {
   "cell_type": "code",
   "execution_count": null,
   "metadata": {
    "collapsed": false
   },
   "outputs": [],
   "source": [
    "# now incorperate the measurement with sigma^2 = 10\n",
    "from random import random\n",
    "\n",
    "sigma = np.sqrt(10)\n",
    "\n",
    "def low_variance_sampling(particles, weights):\n",
    "    new_particles = []\n",
    "    M = len(particles)\n",
    "    M_inv = M**-1\n",
    "    i = 0 # weight index\n",
    "    r = 0  # initial weight offset\n",
    "    while r == 0: # Force r != 0\n",
    "        r = random() * M_inv\n",
    "    \n",
    "    c = weights[0]\n",
    "    for m in xrange(M):\n",
    "        U = r + m*M_inv\n",
    "        while U > c:\n",
    "            i = i + 1\n",
    "            c = c + weights[i]\n",
    "        new_particles.append(particles[i])\n",
    "\n",
    "    return new_particles\n",
    "    \n",
    "\n",
    "\n",
    "def car_particle_measurement_update(particles, z_t, z_sigma):\n",
    "    weights = []\n",
    "    for p in particles:\n",
    "        weights.append(pylab.normpdf(p.x, z_t, z_sigma))\n",
    "    weights = np.array(weights)\n",
    "    weights = weights / weights.sum() # Normalize\n",
    "    \n",
    "    new_particles = low_variance_sampling(particles, weights)\n",
    "    return new_particles\n",
    "\n",
    "\n",
    "\n",
    "M = 100 # Number of particles\n",
    "particles = []\n",
    "for i in xrange(M):\n",
    "    particles.append(CarParticle(0,0))\n",
    "    \n",
    "for i in xrange(5):\n",
    "    particles = car_particle_prediction_update(particles)\n",
    "    \n",
    "particles_before = particles\n",
    "\n",
    "particles_after = car_particle_measurement_update(particles, 5, sigma)\n",
    "    \n",
    "# Plot the results\n",
    "fig = plt.figure(figsize=(9,9))\n",
    "for i, pp in enumerate((particles_before, particles_after)):\n",
    "    ax = fig.add_subplot(1,2,i+1, aspect='equal')\n",
    "    xs, vs = [], []\n",
    "    for p in pp:\n",
    "        xs.append(p.x)\n",
    "        vs.append(p.v)\n",
    "        ax.plot(xs, vs, 'kx')\n",
    "        ax.set_xlim(-12, 12)\n",
    "        ax.set_ylim(-12, 12)\n",
    "\n",
    "plt.show()"
   ]
  },
  {
   "cell_type": "markdown",
   "metadata": {},
   "source": [
    "#5. Partical Filter 2-D Robot <a id=\"Partical_Filter_robot\"></a>\n",
    "\n",
    "Implement a partical filter for the system in problem 1"
   ]
  },
  {
   "cell_type": "code",
   "execution_count": null,
   "metadata": {
    "collapsed": false
   },
   "outputs": [],
   "source": [
    "RobotParticle = namedtuple('RobotParticle', ['x', 'y', 'theta'])\n",
    "\n",
    "x_sigma = 0.1\n",
    "y_sigma = 0.1\n",
    "theta_sigma = 100\n",
    "\n",
    "M = 100 # Number of particles\n",
    "particles = []\n",
    "for i in xrange(M):\n",
    "    x = normalvariate(mu=0, sigma=x_sigma)\n",
    "    y = normalvariate(mu=0, sigma=y_sigma)\n",
    "    theta = normalvariate(mu=0, sigma=theta_sigma)\n",
    "    particles.append(RobotParticle(x,y,theta))\n",
    "\n",
    "def robot_particle_prediction_update(particles, u):\n",
    "    new_particles = []\n",
    "    for p in particles:\n",
    "        x = p.x + cos(p.theta)*u\n",
    "        y = p.y + sin(p.theta)*u\n",
    "        new_particles.append(RobotParticle(x, y, p.theta))\n",
    "    return new_particles\n",
    "\n",
    "particles_bar = robot_particle_prediction_update(particles, 1)\n",
    "\n",
    "# Plot the results\n",
    "fig = plt.figure(figsize=(9,9))\n",
    "stick_len = 0.1\n",
    "ax = fig.add_subplot(1,1,1, aspect='equal')\n",
    "xs, ys, ts = [], [], []\n",
    "for p in particles_bar:\n",
    "    ax.plot(p.x, p.y, 'ko')\n",
    "    ax.plot([p.x, p.x + stick_len*cos(p.theta)], [p.y, p.y + stick_len*sin(p.theta)], 'k')\n",
    "ax.set_xlim(-1.5, 1.5)\n",
    "ax.set_ylim(-1.5, 1.5)\n",
    "plt.show()"
   ]
  },
  {
   "cell_type": "code",
   "execution_count": null,
   "metadata": {
    "collapsed": false
   },
   "outputs": [],
   "source": [
    "# Add the measurement\n",
    "\n",
    "def robot_particle_measurement_update(particles, z_t, z_sigma):\n",
    "    weights = []\n",
    "    for p in particles:\n",
    "        weights.append(pylab.normpdf(p.x, z_t, z_sigma))\n",
    "    weights = np.array(weights)\n",
    "    weights = weights / weights.sum() # Normalize\n",
    "    \n",
    "    new_particles = low_variance_sampling(particles, weights)\n",
    "    return new_particles\n",
    "\n",
    "\n",
    "particles_after = robot_particle_measurement_update(particles_bar, 0, .1)\n",
    "\n",
    "# Plot the results\n",
    "fig = plt.figure(figsize=(9,9))\n",
    "stick_len = 0.1\n",
    "ax = fig.add_subplot(1,1,1, aspect='equal')\n",
    "xs, ys, ts = [], [], []\n",
    "for p in particles_after:\n",
    "    ax.plot(p.x, p.y, 'ko')\n",
    "    ax.plot([p.x, p.x + stick_len*cos(p.theta)], [p.y, p.y + stick_len*sin(p.theta)], 'k')\n",
    "\n",
    "ax.set_xlim(-1.5, 1.5)\n",
    "ax.set_ylim(-1.5, 1.5)\n",
    "plt.show()"
   ]
  },
  {
   "cell_type": "code",
   "execution_count": null,
   "metadata": {
    "collapsed": true
   },
   "outputs": [],
   "source": []
  },
  {
   "cell_type": "code",
   "execution_count": null,
   "metadata": {
    "collapsed": true
   },
   "outputs": [],
   "source": []
  },
  {
   "cell_type": "code",
   "execution_count": null,
   "metadata": {
    "collapsed": true
   },
   "outputs": [],
   "source": []
  },
  {
   "cell_type": "code",
   "execution_count": null,
   "metadata": {
    "collapsed": true
   },
   "outputs": [],
   "source": []
  },
  {
   "cell_type": "code",
   "execution_count": null,
   "metadata": {
    "collapsed": true
   },
   "outputs": [],
   "source": []
  },
  {
   "cell_type": "code",
   "execution_count": null,
   "metadata": {
    "collapsed": true
   },
   "outputs": [],
   "source": []
  },
  {
   "cell_type": "code",
   "execution_count": null,
   "metadata": {
    "collapsed": true
   },
   "outputs": [],
   "source": []
  }
 ],
 "metadata": {
  "kernelspec": {
   "display_name": "Python 2",
   "language": "python",
   "name": "python2"
  },
  "language_info": {
   "codemirror_mode": {
    "name": "ipython",
    "version": 2
   },
   "file_extension": ".py",
   "mimetype": "text/x-python",
   "name": "python",
   "nbconvert_exporter": "python",
   "pygments_lexer": "ipython2",
   "version": "2.7.10"
  }
 },
 "nbformat": 4,
 "nbformat_minor": 0
}
