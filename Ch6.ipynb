{
 "cells": [
  {
   "cell_type": "markdown",
   "metadata": {},
   "source": [
    "# Ch. 6 Exercises\n",
    "<ol>\n",
    "<li>[Ceiling Feature](#Ceiling_Feature)</li>\n",
    "</ol>"
   ]
  },
  {
   "cell_type": "markdown",
   "metadata": {},
   "source": [
    "# 1. Ceiling Feature <a id=\"Ceiling_Feature\"></a>\n",
    "\n",
    "* A feature that looks like + is placed on the ceiling \n",
    "* World coordinates of the feature is $x_m$ $y_m$ and orientation $\\theta_m$\n",
    "* Robot pose of $x_r$ $y_r$ and $\\theta_r$\n",
    "* The feature is detected by a perspective camera at $x_i$ $y_i$ and orientation $\\theta_i$\n",
    "* The camera has focal length $f$, ceiling is at height $h$\n",
    "* A displacement $d$ in $x$-$y$ space get projected into a dispacement of $d \\dot{} \\frac{f}{h}$ in image space\n",
    "\n",
    "(a) Give $X_m$ given $X_i$ and $X_r$\n",
    "\n",
    "The location of the marker relative to the robot is given scaling the marker's location in the image and then rotating by the orientation of the robot. To get the location in global coordinates, shift by the robot's position.\n",
    "\\begin{equation}\n",
    "\\left[\\begin{array}{c} \\ x_m \\\\ y_m \\end{array}\\right] \\\n",
    "= \\\n",
    "\\left[\\begin{array}{c} \\ x_r \\\\ y_r \\end{array}\\right] \\\n",
    "+ \\\n",
    "\\left[\\begin{array}{cc}\n",
    "cos\\theta_r & -sin\\theta_r \\\\\n",
    "sin\\theta_r & cos\\theta_r \\\\\n",
    "\\end{array}\\right] \\\n",
    "\\left[\\begin{array}{c}\n",
    "x_i \\dot{} \\frac{f}{h}\\\\\n",
    "y_i \\dot{} \\frac{f}{h}\\\\\n",
    "\\end{array}\\right] \\\n",
    "\\end{equation}\n",
    "\n",
    "The orientation is given by the orientation of the marker in the image plus the robot's orientation, but because the marker is symetric, the image orientation could be one of four possible orientations, which I will represent as $\\theta$ + $n\\dot{}\\frac{\\pi}{2}$, where $n$ is an integer.\n",
    "\n",
    "\\begin{equation}\n",
    "\\theta_m = \\theta_r + \\theta_i + n\\dot{}\\frac{\\pi}{2} \\\n",
    "\\end{equation}\n",
    "\n",
    "(b) Give $X_i$ given $X_m$ and $X_r$\n"
   ]
  },
  {
   "cell_type": "code",
   "execution_count": null,
   "metadata": {
    "collapsed": true
   },
   "outputs": [],
   "source": []
  }
 ],
 "metadata": {
  "kernelspec": {
   "display_name": "Python 2",
   "language": "python",
   "name": "python2"
  },
  "language_info": {
   "codemirror_mode": {
    "name": "ipython",
    "version": 2
   },
   "file_extension": ".py",
   "mimetype": "text/x-python",
   "name": "python",
   "nbconvert_exporter": "python",
   "pygments_lexer": "ipython2",
   "version": "2.7.10"
  }
 },
 "nbformat": 4,
 "nbformat_minor": 0
}
