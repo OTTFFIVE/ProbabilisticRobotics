{
 "cells": [
  {
   "cell_type": "markdown",
   "metadata": {},
   "source": [
    "#Exercises"
   ]
  },
  {
   "cell_type": "markdown",
   "metadata": {},
   "source": [
    "##1. Robot range finder. \n",
    "Measures 0m - 3m. Assuming distances are evently distributed, if faultly always measures < 1m. Prior probability of faultly sensor is p=0.01. If the sensor is meausered N times, and the value is always below 1m, what is the posterior probability that the sensor is faulty?\n",
    "\n",
    "p(b|m) = p(m|b)*p(b)/P(m)\n"
   ]
  },
  {
   "cell_type": "code",
   "execution_count": null,
   "metadata": {
    "collapsed": false
   },
   "outputs": [],
   "source": [
    "\n",
    "prior = 0.01\n",
    "\n",
    "for i in xrange(1,11):\n",
    "    p_m = 1.0/3.0 * (1-prior) + 1*prior\n",
    "    p_m_if_bad = 1.0\n",
    "    p_bad = prior\n",
    "    p_bad_if_m = p_m_if_bad * p_bad / p_m\n",
    "    \n",
    "    print('N=%d: %f%%' % (i, p_bad_if_m*100))\n",
    "    prior = p_bad_if_m\n",
    "    \n"
   ]
  },
  {
   "cell_type": "markdown",
   "metadata": {},
   "source": [
    "## 2. Weather simulation"
   ]
  },
  {
   "cell_type": "code",
   "execution_count": null,
   "metadata": {
    "collapsed": false
   },
   "outputs": [],
   "source": [
    "#(a) day 1 = sunny. p day 2 = cloudy, day 3 = cloudy, day 4 = rainy?\n",
    "\n",
    "p_2c = 0.2\n",
    "p_3c = p_2c*0.4\n",
    "p_4r = p_3c*0.3\n",
    "\n",
    "print('probablity of sequence = %f' % p_4r)"
   ]
  },
  {
   "cell_type": "code",
   "execution_count": null,
   "metadata": {
    "collapsed": false
   },
   "outputs": [],
   "source": [
    "#(b)\n",
    "import random\n",
    "def getTomorrowsWeather(todaysWeather):\n",
    "    r = random.random()\n",
    "    if todaysWeather == 'sunny':\n",
    "        if r < 0.8:\n",
    "            return 'sunny'\n",
    "        else:\n",
    "            return 'cloudy'\n",
    "    if todaysWeather == 'cloudy':\n",
    "        if r < 0.4:\n",
    "            return 'sunny'\n",
    "        if r < 0.8:\n",
    "            return 'cloudy'\n",
    "        else:\n",
    "            return 'rainy'\n",
    "    if todaysWeather == 'rainy':\n",
    "        if r < 0.2:\n",
    "            return 'sunny'\n",
    "        if r < 0.8:\n",
    "            return 'cloudy'\n",
    "        else:\n",
    "            return 'rainy'\n",
    "    print('Invalid weather!')\n",
    "    return None\n",
    "\n",
    "weather = 'sunny'\n",
    "for i in xrange(10):\n",
    "    print('N=%d: %s' % (i, weather))\n",
    "    weather = getTomorrowsWeather(weather)"
   ]
  },
  {
   "cell_type": "code",
   "execution_count": null,
   "metadata": {
    "collapsed": false
   },
   "outputs": [],
   "source": [
    "#(c)\n",
    "results = {}\n",
    "results['sunny'] = 0\n",
    "results['cloudy'] = 0\n",
    "results['rainy'] = 0\n",
    "\n",
    "weather = 'sunny'\n",
    "N = 100000\n",
    "for i in xrange(N):\n",
    "    weather = getTomorrowsWeather(weather)\n",
    "    results[weather] += 1\n",
    "\n",
    "print('p(sunny) = %f%%' % (results['sunny']*100.0/N))\n",
    "print('p(cloudy) = %f%%' % (results['cloudy']*100.0/N))\n",
    "print('p(rainy) = %f%%' % (results['rainy']*100.0/N))\n"
   ]
  },
  {
   "cell_type": "code",
   "execution_count": null,
   "metadata": {
    "collapsed": false
   },
   "outputs": [],
   "source": [
    "import numpy as np\n",
    "\n",
    "#(d) closed form solution\n",
    "\n",
    "# S = (.8S + .4C + .2R), 0 = -.2S + .4C + .2 R\n",
    "# C = (.2S + .4C + .6R), 0 = .2S + -.6C + .6R\n",
    "# 1.0 = S + C + R\n",
    "\n",
    "a = np.array([[-0.2, 0.4, 0.2],\n",
    "              [0.2, -0.6, 0.6],\n",
    "              [1.0, 1.0, 1.0]])\n",
    "b = np.array([0.0,0.0,1.0])\n",
    "\n",
    "p_sunny, p_cloudy, p_rainy = np.linalg.solve(a,b)\n",
    "print('p(sunny) = %f%%' % (p_sunny*100.0))\n",
    "print('p(cloudy) = %f%%' % (p_cloudy*100.0))\n",
    "print('p(rainy) = %f%%' % (p_rainy*100.0))\n",
    "\n",
    "#(e) Entropy\n",
    "#entropy = -∑p(x)*log2(p(x))\n",
    "\n",
    "ps = [p_sunny, p_cloudy, p_rainy]\n",
    "ent = -reduce(lambda x, y: x+y, map(lambda p: p*np.log2(p), ps))\n",
    "print ''\n",
    "print ('entropy = %f' % ent)\n"
   ]
  },
  {
   "cell_type": "markdown",
   "metadata": {},
   "source": [
    "## 3. Noisy Sensor"
   ]
  },
  {
   "cell_type": "code",
   "execution_count": null,
   "metadata": {
    "collapsed": true
   },
   "outputs": [],
   "source": [
    "# [sunny, cloudy, rainy]\n",
    "p_w_0 = np.array([1.0,0.0,0.0])\n",
    "\n",
    "def weather_update(w):\n",
    "    \"\"\"Returns the probabiliy of tomorrows weather given the probablity to todays weather.\"\"\"\n",
    "    t = np.array([[0.8, 0.2, 0.0],\n",
    "                  [0.4, 0.4, 0.2],\n",
    "                  [0.2, 0.6, 0.2]])\n",
    "    return np.dot(w,t)\n",
    "\n",
    "def normalize(p):\n",
    "    \"\"\"Normailzes the probablities to they add up to One\"\"\"\n",
    "    return p / p.sum()\n",
    "\n",
    "def measure_update(w, m):\n",
    "    \"\"\"Returns the probabiliy of todays weather given the prior probablity to todays weather and a measurement.\"\"\"\n",
    "    t = np.array([[0.6, 0.4, 0.0],\n",
    "                  [0.3, 0.7, 0.0],\n",
    "                  [0.0, 0.0, 1.0]]).T\n",
    "    \n",
    "    raw = w*t[m]\n",
    "    return raw / raw.sum()\n"
   ]
  },
  {
   "cell_type": "code",
   "execution_count": null,
   "metadata": {
    "collapsed": false
   },
   "outputs": [],
   "source": [
    "ms = [1,1,2,0]\n",
    "w = p_w_0[:]\n",
    "for i, m in enumerate(ms):\n",
    "    print 'day %d, m = %d' % (i + 2, m)\n",
    "    w = weather_update(w)\n",
    "    print '\\t prior = %s' % str(w)\n",
    "    w = measure_update(w,m)\n",
    "    print '\\t post = %s' % str(w)\n"
   ]
  },
  {
   "cell_type": "markdown",
   "metadata": {},
   "source": [
    "## 4. Continuous Estimation"
   ]
  },
  {
   "cell_type": "code",
   "execution_count": null,
   "metadata": {
    "collapsed": false
   },
   "outputs": [],
   "source": [
    "def gauss(mu, sigma_sq, x):\n",
    "    return (2*np.pi*sigma_sq)**-0.5 *np.exp(-(x-mu)**2/(2*sigma_sq))\n",
    "\n",
    "gauss(0,np.sqrt(0.1),0.1)"
   ]
  },
  {
   "cell_type": "code",
   "execution_count": null,
   "metadata": {
    "collapsed": false
   },
   "outputs": [],
   "source": []
  },
  {
   "cell_type": "code",
   "execution_count": null,
   "metadata": {
    "collapsed": true
   },
   "outputs": [],
   "source": []
  }
 ],
 "metadata": {
  "kernelspec": {
   "display_name": "Python 2",
   "language": "python",
   "name": "python2"
  },
  "language_info": {
   "codemirror_mode": {
    "name": "ipython",
    "version": 2
   },
   "file_extension": ".py",
   "mimetype": "text/x-python",
   "name": "python",
   "nbconvert_exporter": "python",
   "pygments_lexer": "ipython2",
   "version": "2.7.10"
  }
 },
 "nbformat": 4,
 "nbformat_minor": 0
}
