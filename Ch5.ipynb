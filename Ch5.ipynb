{
 "cells": [
  {
   "cell_type": "markdown",
   "metadata": {},
   "source": [
    "#Ch. 4 Exercises\n",
    "<ol>\n",
    "<li>[Dynamic 1D Robot Motion Model](#Dynamic_1d_robot_motion)</li>\n",
    "<li>[Dynamic 1D Robot Posterior](#Dynamic_1d_robot_posterior)</li>\n",
    "<li>[Dynamic 1D Robot Correlation](#Dynamic_1d_robot_correlation)</li>\n",
    "<li>[Dynamic Bicycle Model](#Dynamic_Bicycle_Model)</li>\n",
    "\n",
    "</ol>"
   ]
  },
  {
   "cell_type": "markdown",
   "metadata": {},
   "source": [
    "## 1. Dynamic 1D Robot Motion Model <a id=\"Dynamic_1d_robot_motion\"></a>\n",
    "\n",
    "Develop a mathematical motion model that computes the posterior over the pose $x^{\\prime}$ and the velocity $\\dot{x}^{\\prime}$ from an initial pose $x$ and velocity $\\dot{x}$ assuming the acceleration \\ddot{x} is the sum of a command and zero-mean gaussian noise with variance $\\sigma^{2}$. Are $x^{\\prime}$ and $\\dot{x}^{\\prime}$ correlated in the posterior?\n",
    "\n",
    "\n",
    "This is the same probem as in earlier chapters. Assuming constant acceleration and no noise during the movement:\n",
    "\n",
    "\\begin{equation}\n",
    "\\dot{x}^{\\prime}  = x^{\\prime} - x \\\\\n",
    "\\ddot{x} = \\dot{x}^{\\prime} - \\dot{x} \\\\\n",
    "\\end{equation}\n",
    "\n",
    "\n",
    "$x^{\\prime}$ and $\\dot{x}^{\\prime}$ are correlated as one can be derived from the other if $\\mu$ is known exactly.\n"
   ]
  },
  {
   "cell_type": "markdown",
   "metadata": {},
   "source": [
    "## 2. Dynamic 1D Robot Motion Posterior <a id=\"Dynamic_1d_robot_posterior\"></a>\n",
    "\n",
    "The probability of an acceleration given the control is $p(\\ddot{x} \\lvert u_t) = Probability(\\ddot{x} - u_t, \\sigma^{2})$\n",
    "\n",
    "The posterior can be calculated by\n",
    "\n",
    "\\begin{equation}\n",
    "p(\\mu^{\\prime}\\ \\lvert\\ \\mu, u) = \\left\\{\\begin{array}{cc}\n",
    "0, & \\dot{x}^{\\prime} \\ne x^{\\prime} - x \\\\\n",
    "Probability((\\dot{x}^{\\prime} - \\dot{x}) - u_t, \\sigma^{2}), & else \\end{array}\\right\\}\n",
    "\\end{equation}\n",
    "\n",
    "It seems like this could be made more general by adding another acceleration at the end of the move, similar to the extra rotation at the end of the odemetry model's move, so that that most states wouldn't have a zero probability.\n",
    "\n",
    "\n",
    "\n"
   ]
  },
  {
   "cell_type": "markdown",
   "metadata": {
    "collapsed": true
   },
   "source": [
    "## 3. Dynamic 1D Robot Motion Correlation <a id=\"Dynamic_1d_robot_correlation\"></a>\n",
    "\n",
    "After controlling the robot with random accelerations for $T$ time intervals, for some large value of $T$ the final location $x$ and final velocity $\\dot{x}$ will not be correlated. "
   ]
  },
  {
   "cell_type": "markdown",
   "metadata": {},
   "source": [
    "## 4. Dynamic Bicycle Model <a id=\"Dynamic_Bicycle_Model\"></a>\n",
    "\n",
    "Create a dynamics model for a bicycle using three state variables $x,y$ of the center of front tire and $\\theta$ yaw of frame relative to an external reference, and controls forward velocity $v$ and steering angle $\\alpha$ after time $\\Delta t$.\n",
    "\n",
    "Assuming noiseless control and movement and bicyle length $L$, the bike will move in a circle whose center is located at the intersection of the lines that run perpedicualr through the center of the tires.\n",
    "\n",
    "The radius of the circle is \n",
    "\\begin{equation}\n",
    "r_{front} = \\left|\\frac{L}{sin(\\alpha)}\\right| \\\\\n",
    "r_{back} = \\left|\\frac{L}{tan(\\alpha)}\\right|\n",
    "\\end{equation}\n",
    "\n",
    "The center of the circle is at \n",
    "\\begin{equation}\n",
    "x_{c} = x - \\frac{L}{sin(\\alpha)} * sin(\\theta + \\alpha) \\\\\n",
    "y_{c} = y + \\frac{L}{sin(\\alpha)} * cos(\\theta + \\alpha)\n",
    "\\end{equation}\n",
    "\n",
    "The control $v$ is assumed to be the speed of the front tire. The distance traveled around the circumference of the circle $d = v * \\Delta t$. The angle traversed during that time is $\\Delta\\theta = \\frac{d}{r}$. The new position of the front tire will then be \n",
    "\n",
    "\\begin{equation}\n",
    "x^{\\prime} = x_{c} + r_{front} * sin(\\theta + \\alpha + \\Delta\\theta) \\\\\n",
    "y^{\\prime} = y_{c} - r_{front} * cos(\\theta + \\alpha + \\Delta\\theta)\n",
    "\\end{equation}\n",
    "\n",
    "\n",
    "\n",
    "\n",
    "\n"
   ]
  },
  {
   "cell_type": "markdown",
   "metadata": {
    "collapsed": false
   },
   "source": [
    "# Bicycle Model"
   ]
  },
  {
   "cell_type": "code",
   "execution_count": null,
   "metadata": {
    "collapsed": false
   },
   "outputs": [],
   "source": [
    "import numpy as np\n",
    "from matplotlib import pyplot as plt\n",
    "import matplotlib.animation as animation\n",
    "%pylab inline\n",
    "\n",
    "class Bicycle:\n",
    "    \n",
    "    def __init__(self, length=1, x=0, y=0, theta=0, epsilon=0.001):\n",
    "        self.length = length\n",
    "        self.x = x\n",
    "        self.y = y\n",
    "        self.theta = theta\n",
    "        self.epsilon = epsilon\n",
    "        \n",
    "    def _get_center(self, alpha):\n",
    "        if np.abs(alpha) < self.epsilon:\n",
    "            return None\n",
    "        \n",
    "        r = self.length / np.sin(alpha)\n",
    "        xc = self.x - r * np.sin(self.theta+alpha)\n",
    "        yc = self.y + r * np.cos(self.theta+alpha)\n",
    "        \n",
    "        return (xc, yc, r)\n",
    "    \n",
    "    def _get_new_pos(self, alpha, v, delta_t=1):\n",
    "        if np.abs(alpha) < self.epsilon:\n",
    "            new_x = self.x * v * np.cos(self.theta)\n",
    "            new_y = self.y * v * np.sin(self.theta)\n",
    "            new_theta = self.theta\n",
    "        else:\n",
    "            xc, yc, r = self._get_center(alpha)\n",
    "            \n",
    "            delta_theta = (v * delta_t) / r\n",
    "            \n",
    "            new_x = xc + r * sin(self.theta + alpha + delta_theta)\n",
    "            new_y = yc - r * cos(self.theta + alpha + delta_theta)\n",
    "            new_theta = self.theta + delta_theta\n",
    "        return (new_x, new_y, new_theta)\n",
    "\n"
   ]
  },
  {
   "cell_type": "markdown",
   "metadata": {},
   "source": [
    "# Debug Plots"
   ]
  },
  {
   "cell_type": "code",
   "execution_count": null,
   "metadata": {
    "collapsed": false,
    "scrolled": true
   },
   "outputs": [],
   "source": [
    "def plot_bicycle(b, alpha, ax, plot_opts='k'):\n",
    "    # front tire\n",
    "    ax.plot([x - b.length / 3.0 * cos(b.theta+alpha), x + b.length / 3.0 * cos(b.theta+alpha)],\n",
    "            [y - b.length / 3.0 * sin(b.theta+alpha), y + b.length / 3.0 * sin(b.theta+alpha)],\n",
    "            plot_opts)\n",
    "    \n",
    "    # back tire\n",
    "    bx = x - b.length * cos(b.theta)\n",
    "    by = y - b.length * sin(b.theta)\n",
    "    ax.plot([bx - b.length / 3.0 * cos(b.theta), bx + b.length / 3.0 * cos(b.theta)],\n",
    "            [by - b.length / 3.0 * sin(b.theta), by + b.length / 3.0 * sin(b.theta)],\n",
    "            plot_opts)\n",
    "\n",
    "thetas = np.array([0, 45, 90, -90, 180]) * np.pi / 180.0\n",
    "alphas = np.array([-45, -30, 15, 30]) * np.pi / 180.0\n",
    "velocities = np.linspace(1, 4, 10)\n",
    "\n",
    "x,y = 0,0\n",
    "L = 1\n",
    "b = Bicycle(L, x, y)\n",
    "for theta in thetas:\n",
    "    fig = plt.figure(figsize=(12,4))\n",
    "    for i, alpha in enumerate(alphas):\n",
    "        b.theta = theta\n",
    "        xc, yc, r = b._get_center(alpha)\n",
    "        \n",
    "        ax = fig.add_subplot(1,len(alphas),i+1, aspect='equal')\n",
    "        plot_bicycle(b, alpha, ax)\n",
    "        ax.plot(xc,yc,'yo')\n",
    "\n",
    "        \n",
    "        \n",
    "        for v in velocities:        \n",
    "            xn, yn, tn = b._get_new_pos(alpha, v)\n",
    "            \n",
    "            bound = 5\n",
    "            ax.set_xlim((-bound, bound))\n",
    "            ax.set_ylim((-bound, bound))\n",
    "            ax.plot(xn,yn,'go')\n",
    "        \n"
   ]
  },
  {
   "cell_type": "code",
   "execution_count": null,
   "metadata": {
    "collapsed": false
   },
   "outputs": [],
   "source": []
  },
  {
   "cell_type": "code",
   "execution_count": null,
   "metadata": {
    "collapsed": true
   },
   "outputs": [],
   "source": []
  },
  {
   "cell_type": "code",
   "execution_count": null,
   "metadata": {
    "collapsed": false
   },
   "outputs": [],
   "source": []
  },
  {
   "cell_type": "code",
   "execution_count": null,
   "metadata": {
    "collapsed": false
   },
   "outputs": [],
   "source": []
  },
  {
   "cell_type": "code",
   "execution_count": null,
   "metadata": {
    "collapsed": true
   },
   "outputs": [],
   "source": []
  }
 ],
 "metadata": {
  "kernelspec": {
   "display_name": "Python 2",
   "language": "python",
   "name": "python2"
  },
  "language_info": {
   "codemirror_mode": {
    "name": "ipython",
    "version": 2
   },
   "file_extension": ".py",
   "mimetype": "text/x-python",
   "name": "python",
   "nbconvert_exporter": "python",
   "pygments_lexer": "ipython2",
   "version": "2.7.10"
  }
 },
 "nbformat": 4,
 "nbformat_minor": 0
}
